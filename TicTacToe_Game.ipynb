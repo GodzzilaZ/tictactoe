{
 "cells": [
  {
   "cell_type": "markdown",
   "metadata": {},
   "source": [
    "# Milestone Project 1: Walkthrough Steps Workbook\n",
    "\n",
    "Below is a set of steps for you to follow to try to create the Tic Tac Toe Milestone Project game!"
   ]
  },
  {
   "cell_type": "markdown",
   "metadata": {},
   "source": [
    "#### Some suggested tools before you get started:\n",
    "To take input from a user:\n",
    "\n",
    "    player1 = input(\"Please pick a marker 'X' or 'O'\")\n",
    "    \n",
    "Note that input() takes in a string. If you need an integer value, use\n",
    "\n",
    "    position = int(input('Please enter a number'))\n",
    "    \n",
    "<br>To clear the screen between moves:\n",
    "\n",
    "    from IPython.display import clear_output\n",
    "    clear_output()\n",
    "    \n",
    "Note that clear_output() will only work in jupyter. To clear the screen in other IDEs, consider:\n",
    "\n",
    "    print('\\n'*100)\n",
    "    \n",
    "This scrolls the previous board up out of view. Now on to the program!"
   ]
  },
  {
   "cell_type": "markdown",
   "metadata": {},
   "source": [
    "**Step 1: Write a function that can print out a board. Set up your board as a list, where each index 1-9 corresponds with a number on a number pad, so you get a 3 by 3 board representation.**"
   ]
  },
  {
   "cell_type": "code",
   "execution_count": 1,
   "metadata": {},
   "outputs": [],
   "source": [
    "from IPython.display import clear_output\n",
    "\n",
    "def display_board(board):\n",
    "    \n",
    "    row1 = board[1:4]\n",
    "    row2 = board[4:7]    \n",
    "    row3 = board[7:]\n",
    "    \n",
    "    print(row1)\n",
    "    print(row2)\n",
    "    print(row3)\n",
    "    pass"
   ]
  },
  {
   "cell_type": "markdown",
   "metadata": {},
   "source": [
    "**TEST Step 1:** run your function on a test version of the board list, and make adjustments as necessary"
   ]
  },
  {
   "cell_type": "code",
   "execution_count": 2,
   "metadata": {},
   "outputs": [
    {
     "name": "stdout",
     "output_type": "stream",
     "text": [
      "['X', 'O', 'X']\n",
      "['O', 'X', 'O']\n",
      "['X', 'O', 'X']\n"
     ]
    }
   ],
   "source": [
    "test_board = ['#','X','O','X','O','X','O','X','O','X']\n",
    "display_board(test_board)"
   ]
  },
  {
   "cell_type": "markdown",
   "metadata": {},
   "source": [
    "**Step 2: Write a function that can take in a player input and assign their marker as 'X' or 'O'. Think about using *while* loops to continually ask until you get a correct answer.**"
   ]
  },
  {
   "cell_type": "code",
   "execution_count": 123,
   "metadata": {},
   "outputs": [],
   "source": [
    "def player_input():\n",
    "    \n",
    "    player_input1 = []\n",
    "    player_input2 = []\n",
    "    \n",
    "    while True:\n",
    "        \n",
    "        choice = input(\"Player 1 - Choose your marker 'X' or 'O': \")\n",
    "        if choice == 'X':\n",
    "            player_input1 = choice \n",
    "            break\n",
    "        elif choice == 'O':\n",
    "            player_input1 = choice\n",
    "            break\n",
    "        else:\n",
    "            print(\"It's not a 'X' or 'O'\")\n",
    "        \n",
    "    while True:\n",
    "        choice2 = input(\"Player 2 - Choose your marker 'X' or 'O': \")\n",
    "        if choice2 == 'X' and choice2 == player_input1:\n",
    "            print(\"Sorry it's already taken by another player\")\n",
    "        elif choice == 'X' and choice2 != player_input1:\n",
    "            player_input2 = choice\n",
    "            break\n",
    "        elif choice2 == 'O' and choice2 == player_input1:\n",
    "            print(\"Sorry it's already taken by another player\")\n",
    "        elif choice == 'O' and choice2 != player_input1:\n",
    "            player_input2 = choice\n",
    "            break\n",
    "        else:\n",
    "            print(\"It's not a 'X' or 'O'\")\n",
    "    \n",
    "    return choice,choice2\n",
    "    \n",
    "    pass"
   ]
  },
  {
   "cell_type": "markdown",
   "metadata": {},
   "source": [
    "**TEST Step 2:** run the function to make sure it returns the desired output"
   ]
  },
  {
   "cell_type": "code",
   "execution_count": 125,
   "metadata": {},
   "outputs": [
    {
     "name": "stdout",
     "output_type": "stream",
     "text": [
      "Player 1 - Choose your marker 'X' or 'O': O\n",
      "Player 2 - Choose your marker 'X' or 'O': X\n"
     ]
    },
    {
     "data": {
      "text/plain": [
       "('O', 'X')"
      ]
     },
     "execution_count": 125,
     "metadata": {},
     "output_type": "execute_result"
    }
   ],
   "source": [
    "player_input()"
   ]
  },
  {
   "cell_type": "markdown",
   "metadata": {},
   "source": [
    "**Step 3: Write a function that takes in the board list object, a marker ('X' or 'O'), and a desired position (number 1-9) and assigns it to the board.**"
   ]
  },
  {
   "cell_type": "code",
   "execution_count": 4,
   "metadata": {},
   "outputs": [],
   "source": [
    "def place_marker(board, marker, position):\n",
    "    \n",
    "    position = int(position)\n",
    "    \n",
    "    board[position] = marker\n",
    "        \n",
    "            \n",
    "    pass"
   ]
  },
  {
   "cell_type": "markdown",
   "metadata": {},
   "source": [
    "**TEST Step 3:** run the place marker function using test parameters and display the modified board"
   ]
  },
  {
   "cell_type": "code",
   "execution_count": 5,
   "metadata": {},
   "outputs": [
    {
     "name": "stdout",
     "output_type": "stream",
     "text": [
      "['X', ' ', 'X']\n",
      "['O', 'X', 'O']\n",
      "['X', 'O', 'X']\n"
     ]
    }
   ],
   "source": [
    "place_marker(test_board,' ',2)\n",
    "display_board(test_board)"
   ]
  },
  {
   "cell_type": "markdown",
   "metadata": {},
   "source": [
    "**Step 4: Write a function that takes in a board and a mark (X or O) and then checks to see if that mark has won. **"
   ]
  },
  {
   "cell_type": "code",
   "execution_count": 6,
   "metadata": {},
   "outputs": [],
   "source": [
    "def win_check(board, mark):\n",
    "    \n",
    "    win = [mark,mark,mark]\n",
    "    \n",
    "    if board[1:4] == win or board[4:7] == win or board[7:] == win or board[1::4] == win or board[3:8:2] == win:\n",
    "        print('You won!')\n",
    "    else:\n",
    "        print('You did not win!')\n",
    "    pass"
   ]
  },
  {
   "cell_type": "markdown",
   "metadata": {},
   "source": [
    "**TEST Step 4:** run the win_check function against our test_board - it should return True"
   ]
  },
  {
   "cell_type": "code",
   "execution_count": 19,
   "metadata": {},
   "outputs": [
    {
     "name": "stdout",
     "output_type": "stream",
     "text": [
      "You won!\n"
     ]
    }
   ],
   "source": [
    "win_check(test_board,'X')"
   ]
  },
  {
   "cell_type": "markdown",
   "metadata": {},
   "source": [
    "**Step 5: Write a function that uses the random module to randomly decide which player goes first. You may want to lookup random.randint() Return a string of which player went first.**"
   ]
  },
  {
   "cell_type": "code",
   "execution_count": 7,
   "metadata": {},
   "outputs": [],
   "source": [
    "import random\n",
    "\n",
    "def choose_first():\n",
    "    \n",
    "    num = random.randint(1,2)\n",
    "    \n",
    "    if num == 1:\n",
    "        print('Player 1 goes first!')\n",
    "    elif num == 2:\n",
    "        print('Player 2 goes first!')\n",
    "    else:\n",
    "        'Error'\n",
    "    pass"
   ]
  },
  {
   "cell_type": "markdown",
   "metadata": {},
   "source": [
    "**Step 6: Write a function that returns a boolean indicating whether a space on the board is freely available.**"
   ]
  },
  {
   "cell_type": "code",
   "execution_count": 30,
   "metadata": {},
   "outputs": [],
   "source": [
    "def space_check(board, position):\n",
    "    \n",
    "    position = int(position)\n",
    "    result = False\n",
    "    \n",
    "    if board[position] == 'X' or board[position] == 'O':\n",
    "        result = False\n",
    "    else:\n",
    "        result = True\n",
    "        \n",
    "    return bool(result)\n",
    "    pass"
   ]
  },
  {
   "cell_type": "markdown",
   "metadata": {},
   "source": [
    "**Step 7: Write a function that checks if the board is full and returns a boolean value. True if full, False otherwise.**"
   ]
  },
  {
   "cell_type": "code",
   "execution_count": 9,
   "metadata": {},
   "outputs": [],
   "source": [
    "def full_board_check(board):\n",
    "    list_x = []\n",
    "    list_o = []\n",
    "    \n",
    "    for x in board:\n",
    "        if x == 'X':\n",
    "            list_x.append(x)\n",
    "        elif x == 'O':\n",
    "            list_o.append(x)\n",
    "            \n",
    "    if len(list_o) + len(list_x) == 9:\n",
    "        print(True)\n",
    "    else:\n",
    "        print(False)\n",
    "\n",
    "    pass"
   ]
  },
  {
   "cell_type": "markdown",
   "metadata": {},
   "source": [
    "**Step 8: Write a function that asks for a player's next position (as a number 1-9) and then uses the function from step 6 to check if it's a free position. If it is, then return the position for later use.**"
   ]
  },
  {
   "cell_type": "code",
   "execution_count": 143,
   "metadata": {},
   "outputs": [],
   "source": [
    "def player_choice(board):\n",
    "    \n",
    "    #VARIABLES\n",
    "    \n",
    "    # Initial\n",
    "    choice = 'Wrong'\n",
    "    acceptable_range = range(1,10)\n",
    "    within_range = False\n",
    "    space_checker = False\n",
    "    \n",
    "    # Two conditions to check\n",
    "    # DIGIT OR WITHIN_RANGE==False\n",
    "    \n",
    "    while choice.isdigit() == False or within_range == False or space_check(board,choice) == False:\n",
    "        \n",
    "        choice = input('Enter a number from (1-9): ')\n",
    "        \n",
    "        #DIGIT CHECK\n",
    "        if choice.isdigit() == False:\n",
    "            print('Sorry that is not a digit!')\n",
    "            \n",
    "        # RANGE CHECK\n",
    "        if choice.isdigit() == True:\n",
    "            if int(choice) in acceptable_range:\n",
    "                within_range = True\n",
    "            else:\n",
    "                print('Your number is not in acceptable range! Enter number from 1 to 9')\n",
    "                within_range = False\n",
    "        \n",
    "        # FREE SPACE CHECK\n",
    "        if choice.isdigit() == True and int(choice) in acceptable_range:\n",
    "            if space_check(board, choice) == False:\n",
    "                print('Sorry, but this position has already been taken by another player!')\n",
    "            \n",
    "    return int(choice)"
   ]
  },
  {
   "cell_type": "markdown",
   "metadata": {},
   "source": [
    "**Step 9: Write a function that asks the player if they want to play again and returns a boolean True if they do want to play again.**"
   ]
  },
  {
   "cell_type": "code",
   "execution_count": 48,
   "metadata": {},
   "outputs": [
    {
     "name": "stdout",
     "output_type": "stream",
     "text": [
      "Would you like to replay the game (Yes or No): Yes\n"
     ]
    },
    {
     "data": {
      "text/plain": [
       "True"
      ]
     },
     "execution_count": 48,
     "metadata": {},
     "output_type": "execute_result"
    }
   ],
   "source": [
    "def replay():\n",
    "    \n",
    "    # VARIABLE\n",
    "    state = False\n",
    "    acceptable_list = ['Yes','No']\n",
    "    result = False\n",
    "    \n",
    "    # LOOP\n",
    "    while state == False:\n",
    "        \n",
    "        # USER'S INPUT\n",
    "        choice = input('Would you like to replay the game (Yes or No): ')\n",
    "        \n",
    "        # YES/NO CHECK\n",
    "        if choice == acceptable_list[0]:\n",
    "            result = True\n",
    "            state = True\n",
    "        elif choice == acceptable_list[1]:\n",
    "            result = False\n",
    "            state = True\n",
    "        else:\n",
    "            print('Write Yes or No')\n",
    "            state = False\n",
    "        \n",
    "    return bool(result)\n",
    "    \n",
    "    pass\n",
    "\n",
    "replay()"
   ]
  },
  {
   "cell_type": "markdown",
   "metadata": {
    "collapsed": true
   },
   "source": [
    "**Step 10: Here comes the hard part! Use while loops and the functions you've made to run the game!**"
   ]
  },
  {
   "cell_type": "code",
   "execution_count": null,
   "metadata": {},
   "outputs": [
    {
     "name": "stdout",
     "output_type": "stream",
     "text": [
      "Welcome to Tic Tac Toe!\n",
      "Here is your board! :)\n",
      "[' ', ' ', ' ']\n",
      "[' ', ' ', ' ']\n",
      "[' ', ' ', ' ']\n",
      "Let's the fight begins!\n",
      "Player 1 - Choose your marker 'X' or 'O': X\n",
      "Player 2 - Choose your marker 'X' or 'O': O\n",
      "Thanks!\n",
      "So Player 1 - X and Player 2 - O\n",
      "Our random machine decided that:\n",
      "Player 2 goes first!\n",
      "[' ', ' ', ' ']\n",
      "[' ', ' ', ' ']\n",
      "[' ', ' ', ' ']\n",
      "Player 1 turn!\n",
      "Enter a number from (1-9): 2\n",
      "[' ', 'X', ' ']\n",
      "[' ', ' ', ' ']\n",
      "[' ', ' ', ' ']\n",
      "Player 2 turn!\n",
      "Enter a number from (1-9): 1\n",
      "['O', 'X', ' ']\n",
      "[' ', ' ', ' ']\n",
      "[' ', ' ', ' ']\n",
      "Player 1 turn!\n",
      "Enter a number from (1-9): 5\n",
      "['O', 'X', ' ']\n",
      "[' ', 'X', ' ']\n",
      "[' ', ' ', ' ']\n",
      "Player 2 turn!\n",
      "Enter a number from (1-9): 3\n",
      "['O', 'X', 'O']\n",
      "[' ', 'X', ' ']\n",
      "[' ', ' ', ' ']\n",
      "Player 1 turn!\n",
      "Enter a number from (1-9): 8\n",
      "['O', 'X', 'O']\n",
      "[' ', 'X', ' ']\n",
      "[' ', 'X', ' ']\n",
      "Player 1 won!\n"
     ]
    }
   ],
   "source": [
    "print('Welcome to Tic Tac Toe!')\n",
    "\n",
    "main_board = ['#',' ',' ',' ',' ',' ',' ',' ',' ',' ']\n",
    "print('Here is your board! :)')\n",
    "display_board(main_board)\n",
    "print(\"Let's the fight begins!\")\n",
    "    \n",
    "while True:\n",
    "    \n",
    "    # VARIABLES\n",
    "    main_board = ['#',' ',' ',' ',' ',' ',' ',' ',' ',' ']\n",
    "    range1 = []\n",
    "    range1 = player_input()\n",
    "    player1 = range1[0]\n",
    "    player2 = range1[1]\n",
    "    \n",
    "    acceptable_range = ['O','X']\n",
    "    \n",
    "    if player1 in acceptable_range and player2 in acceptable_range:\n",
    "        \n",
    "        # Intro\n",
    "        print('Thanks!')\n",
    "        print('So Player 1 - {} and Player 2 - {}'.format(player1,player2))\n",
    "        print(\"Our random machine decided that:\")\n",
    "        choose_first()\n",
    "        display_board(main_board)\n",
    "        \n",
    "        while full_board_check(main_board) == False or win_check(main_board, player1) or win_check(main_board, player2):\n",
    "                \n",
    "                # Win check for player2\n",
    "                if win_check(main_board, player2) == True:\n",
    "                    print('Player 2 won')\n",
    "                    break\n",
    "                else:\n",
    "                    \n",
    "                    # tie check\n",
    "                    if win_check(main_board, player2) == False and full_board_check(main_board) == True:\n",
    "                        print(\"It's tie!\")\n",
    "                        break\n",
    "                    else:\n",
    "                        print('Player 1 turn!')\n",
    "                        place_marker(main_board, player1, player_choice(main_board))\n",
    "                        display_board(main_board)\n",
    "                \n",
    "                # Win check for player1\n",
    "                if win_check(main_board, player1) == True:\n",
    "                    print('Player 1 won!')\n",
    "                    break\n",
    "                else:\n",
    "                    \n",
    "                    # tie check\n",
    "                    if win_check(main_board, player1) == False and full_board_check(main_board) == True:\n",
    "                        print(\"It's tie!\")\n",
    "                        break\n",
    "                    else:\n",
    "                        print('Player 2 turn!')\n",
    "                        place_marker(main_board, player2, player_choice(main_board))\n",
    "                        display_board(main_board)\n",
    "                \n",
    "    \n",
    "        if replay() == False:\n",
    "            print('Thank you for playing my game!')\n",
    "            break\n",
    "    \n"
   ]
  },
  {
   "cell_type": "markdown",
   "metadata": {
    "collapsed": true
   },
   "source": [
    "## Good Job!"
   ]
  }
 ],
 "metadata": {
  "kernelspec": {
   "display_name": "Python 3.8",
   "language": "python",
   "name": "python3"
  },
  "language_info": {
   "codemirror_mode": {
    "name": "ipython",
    "version": 3
   },
   "file_extension": ".py",
   "mimetype": "text/x-python",
   "name": "python",
   "nbconvert_exporter": "python",
   "pygments_lexer": "ipython3",
   "version": "3.8.11"
  }
 },
 "nbformat": 4,
 "nbformat_minor": 1
}
